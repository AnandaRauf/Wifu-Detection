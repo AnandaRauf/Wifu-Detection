{
  "nbformat": 4,
  "nbformat_minor": 0,
  "metadata": {
    "colab": {
      "provenance": [],
      "gpuType": "T4"
    },
    "kernelspec": {
      "name": "python3",
      "display_name": "Python 3"
    },
    "language_info": {
      "name": "python"
    },
    "accelerator": "GPU"
  },
  "cells": [
    {
      "cell_type": "code",
      "execution_count": null,
      "metadata": {
        "colab": {
          "base_uri": "https://localhost:8080/"
        },
        "id": "6Axcq0FXj5eF",
        "outputId": "43ebbc0a-a7bf-4bff-ab11-8aa448bb3b94"
      },
      "outputs": [
        {
          "output_type": "stream",
          "name": "stdout",
          "text": [
            "-------------------------------------------------------------------------------------------\n",
            "\n",
            "Ananda Rauf Maududi\n",
            "Strata 1 / Sarjana Komputer\n",
            "Universitas Bina Sarana Informatika\n",
            "Junior Python Programmer\n",
            "PT Kalanara Group Indonesia\n",
            "-------------------------------------------------------------------------------------------\n",
            "\n"
          ]
        }
      ],
      "source": [
        "import tensorflow as tf\n",
        "from tensorflow.keras.preprocessing.image import ImageDataGenerator\n",
        "from tensorflow.keras.models import Sequential\n",
        "from tensorflow.keras.layers import Conv2D, MaxPooling2D, Flatten, Dense\n",
        "from tensorflow.keras.optimizers import Adam\n",
        "from tensorflow.keras.callbacks import EarlyStopping\n",
        "import numpy as np\n",
        "import pandas as pd\n",
        "from PIL import Image\n",
        "from sklearn.model_selection import train_test_split\n",
        "\n",
        "\n",
        "\n",
        "\n",
        "# Data Diri\n",
        "print(\"-------------------------------------------------------------------------------------------\\n\")\n",
        "nama = \"Ananda Rauf Maududi\"\n",
        "school_title = \"Strata 1 / Sarjana Komputer\"\n",
        "school = \"Universitas Bina Sarana Informatika\"\n",
        "job_title = \"Junior Python Programmer\"\n",
        "work_on = \"PT Kalanara Group Indonesia\"\n",
        "print(nama)\n",
        "print(school_title)\n",
        "print(school)\n",
        "print(job_title)\n",
        "print(work_on)\n",
        "print(\"-------------------------------------------------------------------------------------------\\n\")\n",
        "\n",
        "# Load Dataset from CSV\n",
        "dataset = pd.read_csv('/content/dataset/anime.csv')\n",
        "\n",
        "# Split the dataset into features (X) and labels (y)\n",
        "X = dataset.iloc[:, :-1].values\n",
        "y = dataset.iloc[:, -1].values\n",
        "\n",
        "# Resize the images to match the desired shape\n",
        "resized_images = [np.array(Image.open('/content/gambar/Chiya.jpg').resize((462, 664))) for image_path in X]\n",
        "\n",
        "# Convert the resized images to a numpy array\n",
        "X = np.array(resized_images)\n",
        "\n",
        "# Reshape the features to match the input shape of the model\n",
        "X = X.reshape(-1, 462, 664, 3)\n",
        "\n",
        "# Split the dataset into train and validation sets\n",
        "X_train, X_val, y_train, y_val = train_test_split(X, y, test_size=0.2, random_state=42)\n",
        "\n",
        "# Build model\n",
        "model = Sequential([\n",
        "    Conv2D(32, (3, 3), activation='relu', input_shape=(462, 664, 3)),\n",
        "    MaxPooling2D(pool_size=(2, 2)),\n",
        "    Conv2D(64, (3, 3), activation='relu'),\n",
        "    MaxPooling2D(pool_size=(2, 2)),\n",
        "    Flatten(),\n",
        "    Dense(128, activation='relu'),\n",
        "    Dense(1, activation='sigmoid')\n",
        "])\n",
        "\n",
        "# Compile model\n",
        "model.compile(loss='binary_crossentropy',\n",
        "              optimizer=Adam(learning_rate=0.001),\n",
        "              metrics=['accuracy'])\n",
        "\n",
        "# Set up training and early stopping\n",
        "early_stopping = EarlyStopping(monitor='val_accuracy', patience=5, verbose=1, min_delta=0.01)\n",
        "\n",
        "# Train model\n",
        "history = model.fit(X_train, y_train, batch_size=32, epochs=100, validation_data=(X_val, y_val), callbacks=[early_stopping])\n",
        "\n",
        "# Save the training history to a CSV file\n",
        "history_df = pd.DataFrame(history.history)\n",
        "history_df.to_csv('/content/Save_Dataset/training_history.csv', index=False)\n",
        "\n",
        "# Evaluate model\n",
        "accuracy = model.evaluate(X_val, y_val)[1]\n",
        "print(f'Model accuracy: {accuracy*100:.2f}%')\n",
        "\n",
        "# Predict uploaded image\n",
        "def predict_uploaded_image(image_path):\n",
        "    img = Image.open(image_path).resize((462, 664))\n",
        "    img_array = np.expand_dims(np.array(img) / 255.0, axis=0)\n",
        "    prediction = model.predict(img_array)\n",
        "    return prediction\n",
        "\n",
        "# Location to upload image in Google Colab\n",
        "uploaded_image_path = '/content/gambar/Chiya.jpg'\n",
        "result = predict_uploaded_image(uploaded_image_path)\n",
        "print(f'Prediction result: {result}')"
      ]
    }
  ]
}